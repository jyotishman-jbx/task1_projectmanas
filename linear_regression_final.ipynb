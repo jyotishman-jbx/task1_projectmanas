{
 "cells": [
  {
   "cell_type": "code",
   "execution_count": 11,
   "id": "0915bcbb",
   "metadata": {},
   "outputs": [],
   "source": [
    "import pandas as pd\n",
    "import numpy as np\n",
    "import matplotlib.pyplot as plt\n",
    "\n",
    "#reading the data\n",
    "train=pd.read_csv('linear_regression_dataset.csv')\n",
    "test=pd.read_csv('linear_regression_dataset.csv')\n"
   ]
  },
  {
   "cell_type": "code",
   "execution_count": 12,
   "id": "1422c2ce",
   "metadata": {},
   "outputs": [],
   "source": [
    "train=(train-train.mean())/train.std() #normalising the data\n"
   ]
  },
  {
   "cell_type": "code",
   "execution_count": 13,
   "id": "3ed04e0f",
   "metadata": {},
   "outputs": [],
   "source": [
    "train_data = train.values\n",
    "Y = train_data[:400, 4].reshape(400, 1)\n",
    "X = train_data[:400,[0,1,2,3,5]]\n"
   ]
  },
  {
   "cell_type": "code",
   "execution_count": 14,
   "id": "5175e49b",
   "metadata": {
    "scrolled": false
   },
   "outputs": [],
   "source": [
    "test_data = test.values\n",
    "Y_test = test_data[-20:, 4].reshape(20, 1)\n",
    "X_test = test_data[-20:,[0,1,2,3,5]]"
   ]
  },
  {
   "cell_type": "code",
   "execution_count": 15,
   "id": "5e78b979",
   "metadata": {},
   "outputs": [],
   "source": [
    "X = np.vstack((np.ones((X.shape[0], )), X.T)).T\n",
    "X_test = np.vstack((np.ones((X_test.shape[0],)),X_test.T)).T\n"
   ]
  },
  {
   "cell_type": "code",
   "execution_count": 16,
   "id": "e415cd85",
   "metadata": {},
   "outputs": [],
   "source": [
    "def model(X, Y, learning_rate, iteration):\n",
    "    m = Y.size\n",
    "    theta = np.zeros((X.shape[1], 1))\n",
    "    cost_list = []\n",
    "    for i in range(iteration):\n",
    "        y_pred = np.dot(X, theta)\n",
    "        cost = (1/(2*m))*np.sum(np.square(y_pred - Y))\n",
    "        d_theta = (1/m)*np.dot(X.T, y_pred - Y)\n",
    "        theta = theta - learning_rate*d_theta\n",
    "        cost_list.append(cost)\n",
    "                                        # to print the cost for 10 times\n",
    "        if(i%(iteration/10) == 0):\n",
    "            print(\"Cost is :\", cost)\n",
    "    return theta, cost_list\n",
    "    "
   ]
  },
  {
   "cell_type": "code",
   "execution_count": 17,
   "id": "c16e2da1",
   "metadata": {},
   "outputs": [
    {
     "name": "stdout",
     "output_type": "stream",
     "text": [
      "Cost is : 0.58651455431196\n",
      "Cost is : 0.5865145204720783\n",
      "Cost is : 0.5865144866322005\n",
      "Cost is : 0.5865144527923264\n",
      "Cost is : 0.586514418952456\n",
      "Cost is : 0.5865143851125895\n",
      "Cost is : 0.5865143512727266\n",
      "Cost is : 0.5865143174328675\n",
      "Cost is : 0.586514283593012\n",
      "Cost is : 0.5865142497531606\n"
     ]
    }
   ],
   "source": [
    "iteration = 10000\n",
    "learning_rate = 0.00000000005\n",
    "theta, cost_list = model(X, Y, learning_rate, iteration)"
   ]
  },
  {
   "cell_type": "code",
   "execution_count": 18,
   "id": "72b631a7",
   "metadata": {},
   "outputs": [
    {
     "data": {
      "image/png": "[encoded data removed]",
      "text/plain": [
       "<Figure size 432x288 with 1 Axes>"
      ]
     },
     "metadata": {
      "needs_background": "light"
     },
     "output_type": "display_data"
    }
   ],
   "source": [
    "rng = np.arange(0, iteration)\n",
    "plt.plot(rng, cost_list)\n",
    "plt.show()"
   ]
  },
  {
   "cell_type": "code",
   "execution_count": 19,
   "id": "09705fd0",
   "metadata": {},
   "outputs": [],
   "source": [
    "y_pred = np.dot(X_test, theta)\n",
    "error = (1/X_test.shape[0])*np.sum(np.abs(y_pred - Y_test))"
   ]
  },
  {
   "cell_type": "code",
   "execution_count": 20,
   "id": "a1763665",
   "metadata": {},
   "outputs": [
    {
     "name": "stdout",
     "output_type": "stream",
     "text": [
      "Test error is : 173855.01234555605 %\n",
      "Test Accuracy is : -173755.01234555605 %\n"
     ]
    }
   ],
   "source": [
    "print(\"Test error is :\", error*100, \"%\")\n",
    "print(\"Test Accuracy is :\", (1- error)*100, \"%\")"
   ]
  },
  {
   "cell_type": "code",
   "execution_count": null,
   "id": "82b3f81b",
   "metadata": {},
   "outputs": [],
   "source": []
  },
  {
   "cell_type": "code",
   "execution_count": null,
   "id": "d9c665a3",
   "metadata": {},
   "outputs": [],
   "source": []
  },
  {
   "cell_type": "code",
   "execution_count": null,
   "id": "39306c67",
   "metadata": {},
   "outputs": [],
   "source": []
  }
 ],
 "metadata": {
  "kernelspec": {
   "display_name": "Python 3 (ipykernel)",
   "language": "python",
   "name": "python3"
  },
  "language_info": {
   "codemirror_mode": {
    "name": "ipython",
    "version": 3
   },
   "file_extension": ".py",
   "mimetype": "text/x-python",
   "name": "python",
   "nbconvert_exporter": "python",
   "pygments_lexer": "ipython3",
   "version": "3.9.9"
  }
 },
 "nbformat": 4,
 "nbformat_minor": 5
}
